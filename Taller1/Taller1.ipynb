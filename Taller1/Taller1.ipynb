{
 "cells": [
  {
   "cell_type": "markdown",
   "metadata": {
    "id": "ecsdUUjB69-R"
   },
   "source": [
    "# Taller 1 \n",
    "MINE-4101: Applied Data Science  \n",
    "Univerisdad de los Andes  \n",
    "Estudiante: Alejandra Guerrero"
   ]
  },
  {
   "cell_type": "code",
   "execution_count": 6,
   "metadata": {
    "colab": {
     "base_uri": "https://localhost:8080/"
    },
    "id": "dwvk6tuRX8LA",
    "outputId": "c5696d59-2d3a-444e-f82c-bb5515e3c5ac"
   },
   "outputs": [
    {
     "name": "stdout",
     "output_type": "stream",
     "text": [
      "Requirement already satisfied: markupsafe==2.0.1 in c:\\users\\aguer\\anaconda3\\envs\\cda_talleres\\lib\\site-packages (2.0.1)\n"
     ]
    }
   ],
   "source": [
    "!pip install markupsafe==2.0.1"
   ]
  },
  {
   "cell_type": "code",
   "execution_count": 2,
   "metadata": {
    "id": "KkR6YgKBX98g"
   },
   "outputs": [],
   "source": [
    "# Importar librerias\n",
    "import numpy as np\n",
    "import pandas as pd\n",
    "import matplotlib.pyplot as plt\n",
    "import seaborn as sns\n",
    "import csv\n",
    "import re\n",
    "from datetime import date\n",
    "\n",
    "%matplotlib inline"
   ]
  },
  {
   "cell_type": "markdown",
   "metadata": {
    "id": "bcMBg2y-8bj-"
   },
   "source": [
    "### Punto 0: descripción de los datos y limpieza"
   ]
  },
  {
   "cell_type": "code",
   "execution_count": 3,
   "metadata": {
    "colab": {
     "base_uri": "https://localhost:8080/",
     "height": 374
    },
    "id": "I2niIA0b8kQA",
    "outputId": "ad1c34fb-cc44-496f-96a7-fbbd3bf4413a"
   },
   "outputs": [
    {
     "data": {
      "text/html": [
       "<div>\n",
       "<style scoped>\n",
       "    .dataframe tbody tr th:only-of-type {\n",
       "        vertical-align: middle;\n",
       "    }\n",
       "\n",
       "    .dataframe tbody tr th {\n",
       "        vertical-align: top;\n",
       "    }\n",
       "\n",
       "    .dataframe thead th {\n",
       "        text-align: right;\n",
       "    }\n",
       "</style>\n",
       "<table border=\"1\" class=\"dataframe\">\n",
       "  <thead>\n",
       "    <tr style=\"text-align: right;\">\n",
       "      <th></th>\n",
       "      <th>artist</th>\n",
       "      <th>song</th>\n",
       "      <th>duration_ms</th>\n",
       "      <th>explicit</th>\n",
       "      <th>year</th>\n",
       "      <th>popularity</th>\n",
       "      <th>danceability</th>\n",
       "      <th>energy</th>\n",
       "      <th>key</th>\n",
       "      <th>loudness</th>\n",
       "      <th>mode</th>\n",
       "      <th>speechiness</th>\n",
       "      <th>acousticness</th>\n",
       "      <th>instrumentalness</th>\n",
       "      <th>liveness</th>\n",
       "      <th>valence</th>\n",
       "      <th>tempo</th>\n",
       "      <th>genre;</th>\n",
       "    </tr>\n",
       "  </thead>\n",
       "  <tbody>\n",
       "    <tr>\n",
       "      <th>0</th>\n",
       "      <td>Britney Spears</td>\n",
       "      <td>Oops!...I Did It Again</td>\n",
       "      <td>211160.0</td>\n",
       "      <td>False</td>\n",
       "      <td>2000.0</td>\n",
       "      <td>77.0</td>\n",
       "      <td>0.751</td>\n",
       "      <td>0.834</td>\n",
       "      <td>1.0</td>\n",
       "      <td>-5.444</td>\n",
       "      <td>0.0</td>\n",
       "      <td>0.0437</td>\n",
       "      <td>0.3000</td>\n",
       "      <td>0.000018</td>\n",
       "      <td>0.3550</td>\n",
       "      <td>0.894</td>\n",
       "      <td>95.053</td>\n",
       "      <td>pop;</td>\n",
       "    </tr>\n",
       "    <tr>\n",
       "      <th>1</th>\n",
       "      <td>blink-182,All The Small Things,167066,False,19...</td>\n",
       "      <td>NaN</td>\n",
       "      <td>NaN</td>\n",
       "      <td>NaN</td>\n",
       "      <td>NaN</td>\n",
       "      <td>NaN</td>\n",
       "      <td>NaN</td>\n",
       "      <td>NaN</td>\n",
       "      <td>NaN</td>\n",
       "      <td>NaN</td>\n",
       "      <td>NaN</td>\n",
       "      <td>NaN</td>\n",
       "      <td>NaN</td>\n",
       "      <td>NaN</td>\n",
       "      <td>NaN</td>\n",
       "      <td>NaN</td>\n",
       "      <td>NaN</td>\n",
       "      <td>NaN</td>\n",
       "    </tr>\n",
       "    <tr>\n",
       "      <th>2</th>\n",
       "      <td>Faith Hill,Breathe,250546,False,1999,66,0.529,...</td>\n",
       "      <td>NaN</td>\n",
       "      <td>NaN</td>\n",
       "      <td>NaN</td>\n",
       "      <td>NaN</td>\n",
       "      <td>NaN</td>\n",
       "      <td>NaN</td>\n",
       "      <td>NaN</td>\n",
       "      <td>NaN</td>\n",
       "      <td>NaN</td>\n",
       "      <td>NaN</td>\n",
       "      <td>NaN</td>\n",
       "      <td>NaN</td>\n",
       "      <td>NaN</td>\n",
       "      <td>NaN</td>\n",
       "      <td>NaN</td>\n",
       "      <td>NaN</td>\n",
       "      <td>NaN</td>\n",
       "    </tr>\n",
       "    <tr>\n",
       "      <th>3</th>\n",
       "      <td>Bon Jovi,It's My Life,224493,False,2000,78,0.5...</td>\n",
       "      <td>NaN</td>\n",
       "      <td>NaN</td>\n",
       "      <td>NaN</td>\n",
       "      <td>NaN</td>\n",
       "      <td>NaN</td>\n",
       "      <td>NaN</td>\n",
       "      <td>NaN</td>\n",
       "      <td>NaN</td>\n",
       "      <td>NaN</td>\n",
       "      <td>NaN</td>\n",
       "      <td>NaN</td>\n",
       "      <td>NaN</td>\n",
       "      <td>NaN</td>\n",
       "      <td>NaN</td>\n",
       "      <td>NaN</td>\n",
       "      <td>NaN</td>\n",
       "      <td>NaN</td>\n",
       "    </tr>\n",
       "    <tr>\n",
       "      <th>4</th>\n",
       "      <td>*NSYNC</td>\n",
       "      <td>Bye Bye Bye</td>\n",
       "      <td>200560.0</td>\n",
       "      <td>False</td>\n",
       "      <td>2000.0</td>\n",
       "      <td>NaN</td>\n",
       "      <td>0.614</td>\n",
       "      <td>0.928</td>\n",
       "      <td>8.0</td>\n",
       "      <td>-4.806</td>\n",
       "      <td>0.0</td>\n",
       "      <td>0.0516</td>\n",
       "      <td>0.0408</td>\n",
       "      <td>0.001040</td>\n",
       "      <td>0.0845</td>\n",
       "      <td>0.879</td>\n",
       "      <td>172.656</td>\n",
       "      <td>pop;</td>\n",
       "    </tr>\n",
       "  </tbody>\n",
       "</table>\n",
       "</div>"
      ],
      "text/plain": [
       "                                              artist                    song  \\\n",
       "0                                     Britney Spears  Oops!...I Did It Again   \n",
       "1  blink-182,All The Small Things,167066,False,19...                     NaN   \n",
       "2  Faith Hill,Breathe,250546,False,1999,66,0.529,...                     NaN   \n",
       "3  Bon Jovi,It's My Life,224493,False,2000,78,0.5...                     NaN   \n",
       "4                                             *NSYNC             Bye Bye Bye   \n",
       "\n",
       "   duration_ms explicit    year  popularity  danceability  energy  key  \\\n",
       "0     211160.0    False  2000.0        77.0         0.751   0.834  1.0   \n",
       "1          NaN      NaN     NaN         NaN           NaN     NaN  NaN   \n",
       "2          NaN      NaN     NaN         NaN           NaN     NaN  NaN   \n",
       "3          NaN      NaN     NaN         NaN           NaN     NaN  NaN   \n",
       "4     200560.0    False  2000.0         NaN         0.614   0.928  8.0   \n",
       "\n",
       "   loudness  mode  speechiness  acousticness  instrumentalness  liveness  \\\n",
       "0    -5.444   0.0       0.0437        0.3000          0.000018    0.3550   \n",
       "1       NaN   NaN          NaN           NaN               NaN       NaN   \n",
       "2       NaN   NaN          NaN           NaN               NaN       NaN   \n",
       "3       NaN   NaN          NaN           NaN               NaN       NaN   \n",
       "4    -4.806   0.0       0.0516        0.0408          0.001040    0.0845   \n",
       "\n",
       "   valence    tempo genre;  \n",
       "0    0.894   95.053   pop;  \n",
       "1      NaN      NaN    NaN  \n",
       "2      NaN      NaN    NaN  \n",
       "3      NaN      NaN    NaN  \n",
       "4    0.879  172.656   pop;  "
      ]
     },
     "execution_count": 3,
     "metadata": {},
     "output_type": "execute_result"
    }
   ],
   "source": [
    "# Lectura de los datos en un dataframe\n",
    "df = pd.read_csv(\"./data/Data_Taller_1.csv\", encoding='utf8')\n",
    "df.head()"
   ]
  },
  {
   "cell_type": "markdown",
   "metadata": {
    "id": "MTj0Gxjd8wMu"
   },
   "source": [
    "A partir de la lectura inicial de datos, se observa que muchas columnas quedan vacías puesto que los datos no se están separando por columna correctamente. Al revisar el archivo de datos se identifica que algunas filas inician por comilla doble (\"), lo que hace que python interprete que todo la línea hace parte de la primera columna. Por tanto, es necesario quitar las comillas del inicio y su comilla de cierre."
   ]
  },
  {
   "cell_type": "code",
   "execution_count": 4,
   "metadata": {
    "id": "aU5WCuNgv_xL"
   },
   "outputs": [],
   "source": [
    "# Limpieza de los datos homogenizando el uso de comillas\n",
    "with open('./data/Data_Taller_1.csv', encoding='utf8') as f:\n",
    "    data = re.sub(r'\"\"\"', '|', f.read())\n",
    "    data = re.sub(r'\"\"', '|', data)\n",
    "    data = re.sub(r'\"', '', data)\n",
    "    data = re.sub(r'\\|', '\"', data)\n",
    "    data = re.sub(r';', '', data)\n",
    "\n",
    "# Creación de archivo csv con el formato homogenizado\n",
    "with open('./data/Data_Taller_1_Limpia.csv', 'w', encoding='utf8') as f:\n",
    "    f.write(data)"
   ]
  },
  {
   "cell_type": "code",
   "execution_count": 7,
   "metadata": {
    "id": "a4lPlnP3yGeE"
   },
   "outputs": [],
   "source": [
    "# Lectura de los datos en un dataframe\n",
    "df = pd.read_csv(\"./data/Data_Taller_1_Limpia.csv\", encoding='utf8')"
   ]
  },
  {
   "cell_type": "code",
   "execution_count": 8,
   "metadata": {
    "colab": {
     "base_uri": "https://localhost:8080/",
     "height": 711
    },
    "id": "WstL-iARyMaJ",
    "outputId": "6862c9aa-3525-4b69-ea47-24da00351e29"
   },
   "outputs": [
    {
     "data": {
      "text/html": [
       "<div>\n",
       "<style scoped>\n",
       "    .dataframe tbody tr th:only-of-type {\n",
       "        vertical-align: middle;\n",
       "    }\n",
       "\n",
       "    .dataframe tbody tr th {\n",
       "        vertical-align: top;\n",
       "    }\n",
       "\n",
       "    .dataframe thead th {\n",
       "        text-align: right;\n",
       "    }\n",
       "</style>\n",
       "<table border=\"1\" class=\"dataframe\">\n",
       "  <thead>\n",
       "    <tr style=\"text-align: right;\">\n",
       "      <th></th>\n",
       "      <th>artist</th>\n",
       "      <th>song</th>\n",
       "      <th>duration_ms</th>\n",
       "      <th>explicit</th>\n",
       "      <th>year</th>\n",
       "      <th>popularity</th>\n",
       "      <th>danceability</th>\n",
       "      <th>energy</th>\n",
       "      <th>key</th>\n",
       "      <th>loudness</th>\n",
       "      <th>mode</th>\n",
       "      <th>speechiness</th>\n",
       "      <th>acousticness</th>\n",
       "      <th>instrumentalness</th>\n",
       "      <th>liveness</th>\n",
       "      <th>valence</th>\n",
       "      <th>tempo</th>\n",
       "      <th>genre</th>\n",
       "    </tr>\n",
       "  </thead>\n",
       "  <tbody>\n",
       "    <tr>\n",
       "      <th>0</th>\n",
       "      <td>Britney Spears</td>\n",
       "      <td>Oops!...I Did It Again</td>\n",
       "      <td>211160.0</td>\n",
       "      <td>False</td>\n",
       "      <td>2000</td>\n",
       "      <td>77.0</td>\n",
       "      <td>0.751</td>\n",
       "      <td>0.834</td>\n",
       "      <td>1</td>\n",
       "      <td>-5.444</td>\n",
       "      <td>0</td>\n",
       "      <td>0.0437</td>\n",
       "      <td>0.30000</td>\n",
       "      <td>0.000018</td>\n",
       "      <td>0.3550</td>\n",
       "      <td>0.894</td>\n",
       "      <td>95.053</td>\n",
       "      <td>pop</td>\n",
       "    </tr>\n",
       "    <tr>\n",
       "      <th>1</th>\n",
       "      <td>blink-182</td>\n",
       "      <td>All The Small Things</td>\n",
       "      <td>167066.0</td>\n",
       "      <td>False</td>\n",
       "      <td>1999</td>\n",
       "      <td>79.0</td>\n",
       "      <td>0.434</td>\n",
       "      <td>0.897</td>\n",
       "      <td>0</td>\n",
       "      <td>-4.918</td>\n",
       "      <td>1</td>\n",
       "      <td>0.0488</td>\n",
       "      <td>0.01030</td>\n",
       "      <td>0.000000</td>\n",
       "      <td>0.6120</td>\n",
       "      <td>0.684</td>\n",
       "      <td>148.726</td>\n",
       "      <td>rock, pop</td>\n",
       "    </tr>\n",
       "    <tr>\n",
       "      <th>2</th>\n",
       "      <td>Faith Hill</td>\n",
       "      <td>Breathe</td>\n",
       "      <td>250546.0</td>\n",
       "      <td>False</td>\n",
       "      <td>1999</td>\n",
       "      <td>66.0</td>\n",
       "      <td>0.529</td>\n",
       "      <td>0.496</td>\n",
       "      <td>7</td>\n",
       "      <td>-9.007</td>\n",
       "      <td>1</td>\n",
       "      <td>0.0290</td>\n",
       "      <td>0.17300</td>\n",
       "      <td>0.000000</td>\n",
       "      <td>0.2510</td>\n",
       "      <td>0.278</td>\n",
       "      <td>136.859</td>\n",
       "      <td>pop, country</td>\n",
       "    </tr>\n",
       "    <tr>\n",
       "      <th>3</th>\n",
       "      <td>Bon Jovi</td>\n",
       "      <td>It's My Life</td>\n",
       "      <td>224493.0</td>\n",
       "      <td>False</td>\n",
       "      <td>2000</td>\n",
       "      <td>78.0</td>\n",
       "      <td>0.551</td>\n",
       "      <td>0.913</td>\n",
       "      <td>0</td>\n",
       "      <td>-4.063</td>\n",
       "      <td>0</td>\n",
       "      <td>0.0466</td>\n",
       "      <td>0.02630</td>\n",
       "      <td>0.000013</td>\n",
       "      <td>0.3470</td>\n",
       "      <td>0.544</td>\n",
       "      <td>119.992</td>\n",
       "      <td>rock, metal</td>\n",
       "    </tr>\n",
       "    <tr>\n",
       "      <th>4</th>\n",
       "      <td>*NSYNC</td>\n",
       "      <td>Bye Bye Bye</td>\n",
       "      <td>200560.0</td>\n",
       "      <td>False</td>\n",
       "      <td>2000</td>\n",
       "      <td>NaN</td>\n",
       "      <td>0.614</td>\n",
       "      <td>0.928</td>\n",
       "      <td>8</td>\n",
       "      <td>-4.806</td>\n",
       "      <td>0</td>\n",
       "      <td>0.0516</td>\n",
       "      <td>0.04080</td>\n",
       "      <td>0.001040</td>\n",
       "      <td>0.0845</td>\n",
       "      <td>0.879</td>\n",
       "      <td>172.656</td>\n",
       "      <td>pop</td>\n",
       "    </tr>\n",
       "    <tr>\n",
       "      <th>...</th>\n",
       "      <td>...</td>\n",
       "      <td>...</td>\n",
       "      <td>...</td>\n",
       "      <td>...</td>\n",
       "      <td>...</td>\n",
       "      <td>...</td>\n",
       "      <td>...</td>\n",
       "      <td>...</td>\n",
       "      <td>...</td>\n",
       "      <td>...</td>\n",
       "      <td>...</td>\n",
       "      <td>...</td>\n",
       "      <td>...</td>\n",
       "      <td>...</td>\n",
       "      <td>...</td>\n",
       "      <td>...</td>\n",
       "      <td>...</td>\n",
       "      <td>...</td>\n",
       "    </tr>\n",
       "    <tr>\n",
       "      <th>75</th>\n",
       "      <td>Destiny's Child</td>\n",
       "      <td>Jumpin', Jumpin'</td>\n",
       "      <td>230200.0</td>\n",
       "      <td>False</td>\n",
       "      <td>1999</td>\n",
       "      <td>70.0</td>\n",
       "      <td>0.771</td>\n",
       "      <td>0.685</td>\n",
       "      <td>1</td>\n",
       "      <td>-4.639</td>\n",
       "      <td>1</td>\n",
       "      <td>0.0567</td>\n",
       "      <td>0.00543</td>\n",
       "      <td>0.001570</td>\n",
       "      <td>0.0537</td>\n",
       "      <td>0.683</td>\n",
       "      <td>88.997</td>\n",
       "      <td>pop, R&amp;B</td>\n",
       "    </tr>\n",
       "    <tr>\n",
       "      <th>76</th>\n",
       "      <td>Céline Dion</td>\n",
       "      <td>That's the Way It Is</td>\n",
       "      <td>241373.0</td>\n",
       "      <td>False</td>\n",
       "      <td>1999</td>\n",
       "      <td>64.0</td>\n",
       "      <td>0.634</td>\n",
       "      <td>0.886</td>\n",
       "      <td>9</td>\n",
       "      <td>-5.424</td>\n",
       "      <td>1</td>\n",
       "      <td>0.0434</td>\n",
       "      <td>0.15400</td>\n",
       "      <td>0.000000</td>\n",
       "      <td>0.1180</td>\n",
       "      <td>0.577</td>\n",
       "      <td>93.040</td>\n",
       "      <td>pop</td>\n",
       "    </tr>\n",
       "    <tr>\n",
       "      <th>77</th>\n",
       "      <td>3 Doors Down</td>\n",
       "      <td>Kryptonite</td>\n",
       "      <td>233933.0</td>\n",
       "      <td>False</td>\n",
       "      <td>2000</td>\n",
       "      <td>78.0</td>\n",
       "      <td>0.545</td>\n",
       "      <td>0.865</td>\n",
       "      <td>11</td>\n",
       "      <td>-5.708</td>\n",
       "      <td>0</td>\n",
       "      <td>0.0286</td>\n",
       "      <td>0.00664</td>\n",
       "      <td>0.000011</td>\n",
       "      <td>0.1680</td>\n",
       "      <td>0.543</td>\n",
       "      <td>99.009</td>\n",
       "      <td>pop, rock, metal</td>\n",
       "    </tr>\n",
       "    <tr>\n",
       "      <th>78</th>\n",
       "      <td>Carl Thomas</td>\n",
       "      <td>I Wish</td>\n",
       "      <td>226760.0</td>\n",
       "      <td>False</td>\n",
       "      <td>2000</td>\n",
       "      <td>52.0</td>\n",
       "      <td>0.736</td>\n",
       "      <td>0.666</td>\n",
       "      <td>1</td>\n",
       "      <td>-4.929</td>\n",
       "      <td>1</td>\n",
       "      <td>0.0337</td>\n",
       "      <td>0.05930</td>\n",
       "      <td>0.000038</td>\n",
       "      <td>0.1070</td>\n",
       "      <td>0.224</td>\n",
       "      <td>89.824</td>\n",
       "      <td>pop, R&amp;B</td>\n",
       "    </tr>\n",
       "    <tr>\n",
       "      <th>79</th>\n",
       "      <td>Mystikal</td>\n",
       "      <td>Shake Ya Ass</td>\n",
       "      <td>256973.0</td>\n",
       "      <td>True</td>\n",
       "      <td>2000</td>\n",
       "      <td>57.0</td>\n",
       "      <td>0.914</td>\n",
       "      <td>0.607</td>\n",
       "      <td>7</td>\n",
       "      <td>-5.658</td>\n",
       "      <td>1</td>\n",
       "      <td>0.3200</td>\n",
       "      <td>0.06260</td>\n",
       "      <td>0.000000</td>\n",
       "      <td>0.0515</td>\n",
       "      <td>0.666</td>\n",
       "      <td>98.054</td>\n",
       "      <td>hip hop, pop</td>\n",
       "    </tr>\n",
       "  </tbody>\n",
       "</table>\n",
       "<p>80 rows × 18 columns</p>\n",
       "</div>"
      ],
      "text/plain": [
       "             artist                    song  duration_ms explicit  year  \\\n",
       "0    Britney Spears  Oops!...I Did It Again     211160.0    False  2000   \n",
       "1         blink-182    All The Small Things     167066.0    False  1999   \n",
       "2        Faith Hill                 Breathe     250546.0    False  1999   \n",
       "3          Bon Jovi            It's My Life     224493.0    False  2000   \n",
       "4            *NSYNC             Bye Bye Bye     200560.0    False  2000   \n",
       "..              ...                     ...          ...      ...   ...   \n",
       "75  Destiny's Child        Jumpin', Jumpin'     230200.0    False  1999   \n",
       "76      Céline Dion    That's the Way It Is     241373.0    False  1999   \n",
       "77     3 Doors Down              Kryptonite     233933.0    False  2000   \n",
       "78      Carl Thomas                  I Wish     226760.0    False  2000   \n",
       "79         Mystikal            Shake Ya Ass     256973.0     True  2000   \n",
       "\n",
       "    popularity  danceability  energy  key  loudness  mode  speechiness  \\\n",
       "0         77.0         0.751   0.834    1    -5.444     0       0.0437   \n",
       "1         79.0         0.434   0.897    0    -4.918     1       0.0488   \n",
       "2         66.0         0.529   0.496    7    -9.007     1       0.0290   \n",
       "3         78.0         0.551   0.913    0    -4.063     0       0.0466   \n",
       "4          NaN         0.614   0.928    8    -4.806     0       0.0516   \n",
       "..         ...           ...     ...  ...       ...   ...          ...   \n",
       "75        70.0         0.771   0.685    1    -4.639     1       0.0567   \n",
       "76        64.0         0.634   0.886    9    -5.424     1       0.0434   \n",
       "77        78.0         0.545   0.865   11    -5.708     0       0.0286   \n",
       "78        52.0         0.736   0.666    1    -4.929     1       0.0337   \n",
       "79        57.0         0.914   0.607    7    -5.658     1       0.3200   \n",
       "\n",
       "    acousticness  instrumentalness  liveness  valence    tempo  \\\n",
       "0        0.30000          0.000018    0.3550    0.894   95.053   \n",
       "1        0.01030          0.000000    0.6120    0.684  148.726   \n",
       "2        0.17300          0.000000    0.2510    0.278  136.859   \n",
       "3        0.02630          0.000013    0.3470    0.544  119.992   \n",
       "4        0.04080          0.001040    0.0845    0.879  172.656   \n",
       "..           ...               ...       ...      ...      ...   \n",
       "75       0.00543          0.001570    0.0537    0.683   88.997   \n",
       "76       0.15400          0.000000    0.1180    0.577   93.040   \n",
       "77       0.00664          0.000011    0.1680    0.543   99.009   \n",
       "78       0.05930          0.000038    0.1070    0.224   89.824   \n",
       "79       0.06260          0.000000    0.0515    0.666   98.054   \n",
       "\n",
       "               genre  \n",
       "0                pop  \n",
       "1          rock, pop  \n",
       "2       pop, country  \n",
       "3        rock, metal  \n",
       "4                pop  \n",
       "..               ...  \n",
       "75          pop, R&B  \n",
       "76               pop  \n",
       "77  pop, rock, metal  \n",
       "78          pop, R&B  \n",
       "79      hip hop, pop  \n",
       "\n",
       "[80 rows x 18 columns]"
      ]
     },
     "execution_count": 8,
     "metadata": {},
     "output_type": "execute_result"
    }
   ],
   "source": [
    "# Observación inicial de los datos\n",
    "df.head(80)"
   ]
  },
  {
   "cell_type": "code",
   "execution_count": 9,
   "metadata": {
    "colab": {
     "base_uri": "https://localhost:8080/"
    },
    "id": "j6mddkDi-F-T",
    "outputId": "436b7945-8fe1-42d8-e8bd-6520ca097fba"
   },
   "outputs": [
    {
     "data": {
      "text/plain": [
       "(2000, 18)"
      ]
     },
     "execution_count": 9,
     "metadata": {},
     "output_type": "execute_result"
    }
   ],
   "source": [
    "# Tamaño del set de datos cargado\n",
    "df.shape"
   ]
  },
  {
   "cell_type": "code",
   "execution_count": null,
   "metadata": {
    "colab": {
     "base_uri": "https://localhost:8080/"
    },
    "id": "S9L2Eeaf-L94",
    "outputId": "fa1e874c-18a8-41ca-855c-0fb8b7890c9a"
   },
   "outputs": [],
   "source": [
    "# Tipos de variables del dataframe cargado\n",
    "df.dtypes"
   ]
  },
  {
   "cell_type": "code",
   "execution_count": null,
   "metadata": {
    "colab": {
     "base_uri": "https://localhost:8080/",
     "height": 364
    },
    "id": "t0DpwjNc9-Fk",
    "outputId": "b9860009-82e7-4a9e-9787-b13206f52a89"
   },
   "outputs": [],
   "source": [
    "# Observación inicial de los datos\n",
    "df.describe()"
   ]
  },
  {
   "cell_type": "code",
   "execution_count": null,
   "metadata": {
    "colab": {
     "base_uri": "https://localhost:8080/"
    },
    "id": "JVjAK74--gmA",
    "outputId": "759a2493-1848-4202-c59a-ffc8bb02d892"
   },
   "outputs": [],
   "source": [
    "# Eliminación de duplicados\n",
    "df = df.drop_duplicates()\n",
    "df.shape"
   ]
  },
  {
   "cell_type": "markdown",
   "metadata": {
    "id": "PH0rOkQtDlwj"
   },
   "source": [
    "### Punto 1: artistas más activos en los últimos 10 años (2013-2022)\n",
    "Supuesto: el criterio de \"Activo\" lo define la cantidad de canciones publicadas"
   ]
  },
  {
   "cell_type": "code",
   "execution_count": null,
   "metadata": {
    "colab": {
     "base_uri": "https://localhost:8080/"
    },
    "id": "QeSJEumQIT2J",
    "outputId": "96276249-beba-44af-b85f-8d37bb5e2533"
   },
   "outputs": [],
   "source": [
    "# Calculo de los 10 artistas con más canciones publicadas en los últimos 10 años\n",
    "ultimos_10_años = date.today().year - 10\n",
    "top_artistas = df.loc[df['year'] > ultimos_10_años]['artist'].value_counts(dropna = False)[0:10]\n",
    "top_artistas"
   ]
  },
  {
   "cell_type": "code",
   "execution_count": null,
   "metadata": {
    "colab": {
     "base_uri": "https://localhost:8080/",
     "height": 282
    },
    "id": "4jROHubGFTCF",
    "outputId": "0da290fc-35e5-48a0-8266-607db277c525"
   },
   "outputs": [],
   "source": [
    "# Gráfica de los 10 artistas con más canciones publicadas en los últimos 10 años\n",
    "top_artistas.plot(kind = 'barh')"
   ]
  },
  {
   "cell_type": "markdown",
   "metadata": {
    "id": "4X6mGj5VECC3"
   },
   "source": [
    "### Punto 2: comparación de los géneros Latin y Folk/Acoustic en relación con su duración"
   ]
  },
  {
   "cell_type": "code",
   "execution_count": null,
   "metadata": {
    "colab": {
     "base_uri": "https://localhost:8080/"
    },
    "id": "rLoaVdM7LiaO",
    "outputId": "d645a76e-7582-4a80-ae17-99e6866c4ae6"
   },
   "outputs": [],
   "source": [
    "# Resumen estadístico de la duración de las canciones del género latin\n",
    "df[df['genre'].str.contains('latin', na=False)]['duration_ms'].describe()"
   ]
  },
  {
   "cell_type": "code",
   "execution_count": null,
   "metadata": {
    "colab": {
     "base_uri": "https://localhost:8080/"
    },
    "id": "wLFtu7NSMVzP",
    "outputId": "dc89d202-4301-4d37-e03c-ca757c9edd4a"
   },
   "outputs": [],
   "source": [
    "# Resumen estadístico de la duración de las canciones del género Folk/Acoustic\n",
    "df[df['genre'].str.contains('Folk/Acoustic', na=False)]['duration_ms'].describe()"
   ]
  },
  {
   "cell_type": "code",
   "execution_count": null,
   "metadata": {
    "colab": {
     "base_uri": "https://localhost:8080/"
    },
    "id": "NRswKRBoE7_D",
    "outputId": "d19e283d-cebe-42bb-8541-3855329d0552"
   },
   "outputs": [],
   "source": [
    "# Diferencia del tiempo promedio de ambos géneros\n",
    "mean_latin = df[df['genre'].str.contains('latin', na=False)]['duration_ms'].mean()\n",
    "mean_folk = df[df['genre'].str.contains('Folk/Acoustic', na=False)]['duration_ms'].mean()\n",
    "diferencia = mean_latin - mean_folk\n",
    "print(diferencia)"
   ]
  },
  {
   "cell_type": "markdown",
   "metadata": {
    "id": "me1zdzw1FWSl"
   },
   "source": [
    "De acuerdo con el resumen estadístico de ambos géneros, se puede observar que existe el triple de canciones del género latin respecto al género 'Folk/Acoustic'. Por otro lado, las canciones del género latin suelen ser más largas en términos de segundos, no representa una diferencia significativa a nivel de minutos. La diferencia entre el tiempo promedio de ambos géneros es de 7311ms. "
   ]
  },
  {
   "cell_type": "code",
   "execution_count": null,
   "metadata": {
    "colab": {
     "base_uri": "https://localhost:8080/",
     "height": 49
    },
    "id": "OopyThE-8pun",
    "outputId": "96d5c7cf-2e46-4b98-abb0-87e464a1e0e5"
   },
   "outputs": [],
   "source": [
    "# Revision de si existen canciones que clasifiquen como latin y como Folk/Acoustic\n",
    "# No se encontró alguna\n",
    "df.loc[(df['genre'].str.contains('latin', na=False) == True) & (df['genre'].str.contains('Folk/Acoustic', na=False))== True]"
   ]
  },
  {
   "cell_type": "code",
   "execution_count": null,
   "metadata": {
    "id": "hC2UW8YHAk-H"
   },
   "outputs": [],
   "source": [
    "# Funcion que clasifica una canción dentro de las categorías de interés\n",
    "def genero(x):\n",
    "    x = str(x)\n",
    "    if x.find('latin') != -1:\n",
    "        return 'latin'\n",
    "    elif x.find('Folk/Acoustic') != -1:\n",
    "        return 'Folk/Acoustic'\n",
    "    else:\n",
    "        return 'NA'"
   ]
  },
  {
   "cell_type": "code",
   "execution_count": null,
   "metadata": {
    "colab": {
     "base_uri": "https://localhost:8080/"
    },
    "id": "J9DI7WwQG-KE",
    "outputId": "1d4977b4-ba5d-462a-fe60-6abe92583c2e"
   },
   "outputs": [],
   "source": [
    "# Creación de un dataframe temporal con las columnas de interés\n",
    "df_tmp = df[['song', 'genre', 'duration_ms']]\n",
    "df_tmp['genero'] = df_tmp['genre'].apply(genero)"
   ]
  },
  {
   "cell_type": "code",
   "execution_count": null,
   "metadata": {
    "colab": {
     "base_uri": "https://localhost:8080/",
     "height": 623
    },
    "id": "Zoz4g1_S8pmP",
    "outputId": "1ff9c5b4-961c-41bf-9b33-98738040bd8a"
   },
   "outputs": [],
   "source": [
    "# Representación gráfica del comportamiento de la duración de las canciones de latin y Folk/Acoustic\n",
    "plt.figure(figsize = (13, 10))\n",
    "sns.boxplot(x = 'genero', y = 'duration_ms', data = df_tmp.loc[~df_tmp['genero'].isin(['NA'])])"
   ]
  },
  {
   "cell_type": "markdown",
   "metadata": {
    "id": "Q7l8UMnqHXJ-"
   },
   "source": [
    "Nuevamente, se observa que las canciones del género latin suelen ser más largas respecto a Folk/Acoustic, pero no representa una diferencia significativa. Por otro lado, en el caso del género latin se identifican algunas canciones que duran mucho más de lo usual."
   ]
  },
  {
   "cell_type": "markdown",
   "metadata": {
    "id": "lQIQCNzzrWla"
   },
   "source": [
    "### Punto 3 : top 5 de los géneros más populares en 2019 y su comportamiento\n",
    "Supuesto: una canción que pertenece a más de un género musical, se contabiliza dentro de cada uno de los géneros a los cuales pertenece"
   ]
  },
  {
   "cell_type": "code",
   "execution_count": null,
   "metadata": {
    "colab": {
     "base_uri": "https://localhost:8080/",
     "height": 354
    },
    "id": "I28a1Triwul6",
    "outputId": "50c4e93e-88b5-4572-d2f7-67a446dff84e"
   },
   "outputs": [],
   "source": [
    "# Creacion de dataframe de canciones separando cada canción en sus múltiples géneros musicales\n",
    "df_tmp = df.copy()\n",
    "df_tmp['genre'] = df_tmp['genre'].str.split(',')\n",
    "df_tmp = df_tmp.explode('genre', ignore_index=True)\n",
    "df_tmp['genre'] = df_tmp['genre'].str.strip()\n",
    "df_tmp.head()"
   ]
  },
  {
   "cell_type": "code",
   "execution_count": null,
   "metadata": {
    "colab": {
     "base_uri": "https://localhost:8080/",
     "height": 206
    },
    "id": "yqsVO7Pyy-VD",
    "outputId": "10938845-27ea-4c23-98c4-400d0c51175e"
   },
   "outputs": [],
   "source": [
    "# Cálculo del top 5 de los géneros del 2019 según la cantidad de canciones\n",
    "top_generos = df_tmp.loc[df_tmp['year'] == 2019]['genre'].value_counts(dropna = False)[0:5].reset_index(name=\"count\")\n",
    "top_generos"
   ]
  },
  {
   "cell_type": "code",
   "execution_count": null,
   "metadata": {
    "colab": {
     "base_uri": "https://localhost:8080/",
     "height": 357
    },
    "id": "sL4W3ydBWiq8",
    "outputId": "9747cc61-d808-4ba3-da79-c3bb5f7e58b2"
   },
   "outputs": [],
   "source": [
    "# Gráfica del top 5 de los géneros del 2019 según la cantidad de canciones\n",
    "df_tmp.loc[df_tmp['year'] == 2019]['genre'].value_counts(dropna = False)[0:5].plot(kind='bar')"
   ]
  },
  {
   "cell_type": "code",
   "execution_count": null,
   "metadata": {
    "colab": {
     "base_uri": "https://localhost:8080/",
     "height": 802
    },
    "id": "EJX1XezrGUCx",
    "outputId": "4bdd6330-f6eb-4eb9-f9e7-3a92339f57e2"
   },
   "outputs": [],
   "source": [
    "# Variación del top de canciones del 2019 en los años 2000, 2005, 2010, 2015, 2019\n",
    "años = [2000, 2005, 2010, 2015, 2019]\n",
    "top_generos_años = df_tmp.loc[(df_tmp['year'].isin(años)) & (df_tmp['genre'].isin(top_generos['index']))].groupby(['genre', 'year']).size().reset_index(name=\"count\")\n",
    "top_generos_años"
   ]
  },
  {
   "cell_type": "code",
   "execution_count": null,
   "metadata": {
    "colab": {
     "base_uri": "https://localhost:8080/",
     "height": 442
    },
    "id": "wDVRb85lSuA8",
    "outputId": "65129b46-54cc-4507-bd33-0b3e5851c6d3"
   },
   "outputs": [],
   "source": [
    "# Variación del top de canciones del 2019 en los años 2000, 2005, 2010, 2015, 2019\n",
    "plt.figure(figsize = (13, 7))\n",
    "\n",
    "for i in top_generos['index']:\n",
    "    plt.plot(top_generos_años.loc[top_generos_años['genre'] == i]['year'], top_generos_años.loc[top_generos_años['genre'] == i]['count'], marker='o', linestyle='-', label=i)\n",
    "\n",
    "plt.xlabel('Count')\n",
    "plt.ylabel('Year')\n",
    "plt.xticks(años)\n",
    "plt.legend(loc = 'upper right')\n",
    "plt.show()"
   ]
  },
  {
   "cell_type": "markdown",
   "metadata": {
    "id": "HuhdZgZXWXr4"
   },
   "source": [
    "En 2019, el top 5 de géneros musicales fue pop, hip hop, dance/electronic, R&B y latin. Dichos géneros musicales tuvieron el comportamiento que se aprecia en la gráfica previa. Excepto por el género R&B que disminuyó en popularidad con el paso del tiempo, desde el 2000 los otros géneros han crecido teniendo una mayor auge en el 2010."
   ]
  },
  {
   "cell_type": "markdown",
   "metadata": {
    "id": "1GmPCVkRazeD"
   },
   "source": [
    "### Punto 4: progresión de nuevos artistas"
   ]
  },
  {
   "cell_type": "code",
   "execution_count": null,
   "metadata": {
    "colab": {
     "base_uri": "https://localhost:8080/",
     "height": 424
    },
    "id": "ec_7B49Ra5Q8",
    "outputId": "fb8b667d-19d9-412b-aad4-b9cadb5cdded"
   },
   "outputs": [],
   "source": [
    "# Calculo del año en que un artista se consideró nuevo o apareció por primera vez\n",
    "nuevos_artistas = df.groupby(\"artist\").agg({\"year\":min}).reset_index()\n",
    "nuevos_artistas"
   ]
  },
  {
   "cell_type": "code",
   "execution_count": null,
   "metadata": {
    "colab": {
     "base_uri": "https://localhost:8080/"
    },
    "id": "K5v5aHL_cUo7",
    "outputId": "e0983db6-e4da-481d-98da-ffe903229fcb"
   },
   "outputs": [],
   "source": [
    "# Cantidad de nuevos artistas por año\n",
    "nuevos_artistas['year'].value_counts(dropna = False)"
   ]
  },
  {
   "cell_type": "code",
   "execution_count": null,
   "metadata": {
    "colab": {
     "base_uri": "https://localhost:8080/",
     "height": 295
    },
    "id": "8EiDbTDdknVz",
    "outputId": "31d54b72-9b28-48aa-8e82-4c2156eb68f6"
   },
   "outputs": [],
   "source": [
    "# Grafica con la progresión de nuevos artistas por año\n",
    "intervalos = range(min(nuevos_artistas['year']), max(nuevos_artistas['year']) + 2)\n",
    "plt.hist(x=nuevos_artistas['year'], bins=intervalos)\n",
    "plt.title('Nuevos artistas')\n",
    "plt.xlabel('Años')\n",
    "plt.ylabel('Frecuencia')\n",
    "plt.grid()\n",
    "plt.show()"
   ]
  },
  {
   "cell_type": "markdown",
   "metadata": {
    "id": "YGxVfZsHAdXA"
   },
   "source": [
    "Se identifica que a inicios de los años 2000 surgieron significativamente nuevos artistas. Ignorando los años extremos que pueden tener falta de datos, en el año 2009 hubo una caída de nuevos cantantes. En los otros años, hubo un comportamiento relativamente constante."
   ]
  },
  {
   "cell_type": "markdown",
   "metadata": {
    "id": "C_RQqJPhwiO4"
   },
   "source": [
    "### Punto 5: progresión de la popularidad\n",
    "Supuesto: una canción que pertenece a más de un género musical, se contabiliza dentro de cada uno de los géneros a los cuales pertenece"
   ]
  },
  {
   "cell_type": "code",
   "execution_count": null,
   "metadata": {
    "colab": {
     "base_uri": "https://localhost:8080/",
     "height": 424
    },
    "id": "ExYFu3-XwhHD",
    "outputId": "b3d12d2c-a0bb-4f76-d57a-321b669485e7"
   },
   "outputs": [],
   "source": [
    "# Cálculo del promedio de la popularidad desagregado por género musical y año\n",
    "popularidad = df_tmp.groupby(['genre', 'year']).agg({\"popularity\":'mean'}).reset_index()\n",
    "generos = popularidad['genre'].unique()\n",
    "popularidad"
   ]
  },
  {
   "cell_type": "code",
   "execution_count": null,
   "metadata": {
    "colab": {
     "base_uri": "https://localhost:8080/",
     "height": 442
    },
    "id": "25YqN1SPzkaE",
    "outputId": "5bc0b267-b7c1-4a13-fc6b-165e327a1368"
   },
   "outputs": [],
   "source": [
    "# Variación del promedio de la popularidad por año\n",
    "plt.figure(figsize = (13, 7))\n",
    "\n",
    "for i in generos:\n",
    "    plt.plot(popularidad.loc[popularidad['genre'] == i]['year'], popularidad.loc[popularidad['genre'] == i]['popularity'], marker='o', linestyle='-', label=i)\n",
    "\n",
    "plt.xlabel('Año')\n",
    "plt.ylabel('Popularidad promedio')\n",
    "plt.legend(loc=(1.02, 0))\n",
    "plt.show()"
   ]
  },
  {
   "cell_type": "code",
   "execution_count": null,
   "metadata": {
    "colab": {
     "base_uri": "https://localhost:8080/",
     "height": 1000
    },
    "id": "GD7TNG9FDDHu",
    "outputId": "4b275003-8811-4c8d-e91e-02aeda24d26a"
   },
   "outputs": [],
   "source": [
    "# Variación del promedio de la popularidad desagregado por género musical y año\n",
    "col = 3\n",
    "rows = int(np.ceil(len(generos)/col))\n",
    "figure, axis = plt.subplots(rows, col, figsize=(20, 20), sharex='all', sharey='all')\n",
    "j=0\n",
    "\n",
    "for i in generos:\n",
    "    x, y = int(j/col), int(j%col)\n",
    "    axis[x, y].plot(popularidad.loc[popularidad['genre'] == i]['year'], popularidad.loc[popularidad['genre'] == i]['popularity'], marker='o')\n",
    "    axis[x, y].set_title(i)\n",
    "    axis[x, y].xaxis.set_tick_params(which='both', labelbottom=True)\n",
    "    axis[x, y].yaxis.set_tick_params(which='both', labelbottom=True)\n",
    "    j += 1\n",
    "\n",
    "plt.show()"
   ]
  },
  {
   "cell_type": "markdown",
   "metadata": {
    "id": "yxC6Jg4CGAev"
   },
   "source": [
    "A partir de las gráficas anteriores, se puede concluir que los géneros Dance, R&B, hip hop y rock se han mantenido populares con el paso del tiempo, aunque bien pueden fluctuar. Sin embargo, géneros como Blues, classical y jazz no tienen muchas canciones y no son tan populares."
   ]
  },
  {
   "cell_type": "markdown",
   "metadata": {
    "id": "H3_UWYLoOxa2"
   },
   "source": [
    "### Punto 6: comparación de los géneros Pop y Rock"
   ]
  },
  {
   "cell_type": "code",
   "execution_count": null,
   "metadata": {
    "colab": {
     "base_uri": "https://localhost:8080/",
     "height": 269
    },
    "id": "klT2taHRMGi-",
    "outputId": "13ed949b-c7a0-4cae-900a-d1098a6440c5"
   },
   "outputs": [],
   "source": [
    "# Comparación estadística de los géneros Pop y Rock\n",
    "descripcion = df_tmp.loc[df_tmp['genre'].isin(['pop', 'rock'])].groupby('genre')[['energy', 'valence', 'tempo']].describe().unstack(1).reset_index().pivot(index=['genre', 'level_0'], values=0, columns='level_1')\n",
    "descripcion"
   ]
  },
  {
   "cell_type": "code",
   "execution_count": null,
   "metadata": {
    "colab": {
     "base_uri": "https://localhost:8080/",
     "height": 514
    },
    "id": "cVNDCoefPYKM",
    "outputId": "2dee63e2-8bf0-43c2-8f13-75b709174f14"
   },
   "outputs": [],
   "source": [
    "# Representación gráfica de la variable energy para los géneros Pop y Rock\n",
    "plt.figure(figsize = (10, 8))\n",
    "sns.boxplot(x = 'genre', y = 'energy', data = df_tmp.loc[df_tmp['genre'].isin(['pop', 'rock'])])"
   ]
  },
  {
   "cell_type": "code",
   "execution_count": null,
   "metadata": {
    "colab": {
     "base_uri": "https://localhost:8080/",
     "height": 514
    },
    "id": "WSGK6x4IP6t6",
    "outputId": "69549b4a-29ff-4155-934f-5f78f065bc56"
   },
   "outputs": [],
   "source": [
    "# Representación gráfica de la variable valence para los géneros Pop y Rock\n",
    "plt.figure(figsize = (10, 8))\n",
    "sns.boxplot(x = 'genre', y = 'valence', data = df_tmp.loc[df_tmp['genre'].isin(['pop', 'rock'])])"
   ]
  },
  {
   "cell_type": "code",
   "execution_count": null,
   "metadata": {
    "colab": {
     "base_uri": "https://localhost:8080/",
     "height": 514
    },
    "id": "vmiH671dP_Xh",
    "outputId": "c1c35b44-1316-498d-8ebb-fbaba9a69475"
   },
   "outputs": [],
   "source": [
    "# Representación gráfica de la variable tempo para los géneros Pop y Rock\n",
    "plt.figure(figsize = (10, 8))\n",
    "sns.boxplot(x = 'genre', y = 'tempo', data = df_tmp.loc[df_tmp['genre'].isin(['pop', 'rock'])])"
   ]
  },
  {
   "cell_type": "markdown",
   "metadata": {
    "id": "C6-6BPS1U1gG"
   },
   "source": [
    "De las tres gráficas anteriores que comparan los géneros pop y rock, se puede concluir que el género rock tiene una mayor energía o intensidad y se caracteriza por tener una mayor cantidad de pulsaciones por minuto (Tempo). Sin embargo, ambos géneros no se diferencian mucho en su valence o percepción de positividad musical."
   ]
  },
  {
   "cell_type": "markdown",
   "metadata": {
    "id": "N3yJUWNWplzw"
   },
   "source": [
    "###Punto 7: pregunta de negocio de interés\n",
    "**Relación entre el género musical, la popularidad y el indicador danceability en el año 2012.**"
   ]
  },
  {
   "cell_type": "code",
   "execution_count": null,
   "metadata": {
    "colab": {
     "base_uri": "https://localhost:8080/",
     "height": 514
    },
    "id": "KtzcqmkNlYsT",
    "outputId": "05ab34b8-ce3e-4acb-f59c-62960aaea717"
   },
   "outputs": [],
   "source": [
    "# Representación gráfica de la variable danceability para todos los géneros\n",
    "plt.figure(figsize = (20, 8))\n",
    "sns.boxplot(x = 'genre', y = 'danceability', data = df_tmp.loc[df_tmp['year']==2012])"
   ]
  },
  {
   "cell_type": "markdown",
   "metadata": {
    "id": "FTYVrP1_BsKZ"
   },
   "source": [
    "Se puede observar que los géneros pop, hip hop, dance y latin suelen tener un mejor indice de danceability. "
   ]
  },
  {
   "cell_type": "code",
   "execution_count": null,
   "metadata": {
    "id": "dDCMAU6toDsg"
   },
   "outputs": [],
   "source": [
    "# Funcion que categoriza la variable danceability\n",
    "def danceability_cat(x):\n",
    "    X = float(x)\n",
    "    if x < 0.3:\n",
    "        return 'No bailable'\n",
    "    elif x < 0.6:\n",
    "        return 'Poco bailable'\n",
    "    elif x < 0.9:\n",
    "        return 'Bailable'\n",
    "    elif x < 1:\n",
    "        return 'Muy bailable'\n",
    "    else:\n",
    "        return 'No bailable'"
   ]
  },
  {
   "cell_type": "code",
   "execution_count": null,
   "metadata": {
    "colab": {
     "base_uri": "https://localhost:8080/",
     "height": 731
    },
    "id": "WW4u8f8IoVnP",
    "outputId": "224f13be-86d2-4a84-a5bd-e93e15536d87"
   },
   "outputs": [],
   "source": [
    "# Creación de la columna que categoriza la variable danceability\n",
    "df_tmp['danceability_cat'] = df_tmp['danceability'].apply(danceability_cat)\n",
    "df_tmp"
   ]
  },
  {
   "cell_type": "code",
   "execution_count": null,
   "metadata": {
    "colab": {
     "base_uri": "https://localhost:8080/",
     "height": 624
    },
    "id": "hThYNSazpkIQ",
    "outputId": "e9f4efca-9fef-4598-c3df-9dcdb14c33e9"
   },
   "outputs": [],
   "source": [
    "# Relación entre el género musical, la popularidad y el indicador danceability categórico en el año 2012.\n",
    "niveles = ['No bailable', 'Poco bailable', 'Bailable', 'Muy bailable']\n",
    "fig, ax = plt.subplots(figsize=(20, 10))\n",
    "\n",
    "print(type(niveles[0]))\n",
    "\n",
    "for i in niveles:\n",
    "    ax.barh(df_tmp.loc[(df_tmp['danceability_cat'] == i) & (df_tmp['year'] == 2012)]['genre'].astype(str), \n",
    "            df_tmp.loc[(df_tmp['danceability_cat'] == i) & (df_tmp['year'] == 2012)]['popularity'], label=i)\n",
    "\n",
    "ax.set_ylabel('Géneros')\n",
    "ax.set_title('Promedio de la popularidad por género en 2012')\n",
    "ax.legend()\n",
    "\n",
    "plt.show()"
   ]
  },
  {
   "cell_type": "markdown",
   "metadata": {
    "id": "b3Cb3P2tCEho"
   },
   "source": [
    "A partir de las gráficas anteriores, se puede observar que no necesariamente las canciones tienen que percibirser como bailables para ser consideradas populares. "
   ]
  }
 ],
 "metadata": {
  "colab": {
   "collapsed_sections": [],
   "provenance": []
  },
  "kernelspec": {
   "display_name": "Python 3 (ipykernel)",
   "language": "python",
   "name": "python3"
  },
  "language_info": {
   "codemirror_mode": {
    "name": "ipython",
    "version": 3
   },
   "file_extension": ".py",
   "mimetype": "text/x-python",
   "name": "python",
   "nbconvert_exporter": "python",
   "pygments_lexer": "ipython3",
   "version": "3.9.13"
  }
 },
 "nbformat": 4,
 "nbformat_minor": 4
}
